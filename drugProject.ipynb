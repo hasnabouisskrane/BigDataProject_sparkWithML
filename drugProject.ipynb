{
 "cells": [
  {
   "cell_type": "markdown",
   "id": "cabba380",
   "metadata": {},
   "source": [
    "# Decision Tree classification with Pyspark\n"
   ]
  },
  {
   "cell_type": "code",
   "execution_count": 21,
   "id": "eb33072b",
   "metadata": {},
   "outputs": [],
   "source": [
    "from pyspark.sql import SparkSession\n",
    "spark = SparkSession.builder.appName('treecode').getOrCreate()\n"
   ]
  },
  {
   "cell_type": "code",
   "execution_count": 22,
   "id": "f5beff59",
   "metadata": {},
   "outputs": [],
   "source": [
    "\n",
    "data = spark.read.csv('hdfs://localhost:9000/dataset/drug.csv',inferSchema=True,header=True)"
   ]
  },
  {
   "cell_type": "code",
   "execution_count": 23,
   "id": "ea6cb553",
   "metadata": {},
   "outputs": [
    {
     "name": "stdout",
     "output_type": "stream",
     "text": [
      "root\n",
      " |-- age: integer (nullable = true)\n",
      " |-- sex: string (nullable = true)\n",
      " |-- bp: string (nullable = true)\n",
      " |-- cholesterol: string (nullable = true)\n",
      " |-- Na_to_K: double (nullable = true)\n",
      " |-- drug: string (nullable = true)\n",
      "\n"
     ]
    }
   ],
   "source": [
    "#Afficher nom des colonnes et les types des données\n",
    "data.printSchema()"
   ]
  },
  {
   "cell_type": "code",
   "execution_count": 24,
   "id": "f7556492",
   "metadata": {},
   "outputs": [
    {
     "data": {
      "text/plain": [
       "Row(age=23, sex='F', bp='HIGH', cholesterol='HIGH', Na_to_K=25.355, drug='drugY')"
      ]
     },
     "execution_count": 24,
     "metadata": {},
     "output_type": "execute_result"
    }
   ],
   "source": [
    "data.head()"
   ]
  },
  {
   "cell_type": "markdown",
   "id": "728dbf21",
   "metadata": {},
   "source": [
    "# Mise en forme Spark des données"
   ]
  },
  {
   "cell_type": "code",
   "execution_count": 25,
   "id": "9d4743a2",
   "metadata": {},
   "outputs": [],
   "source": [
    "#Pour Spark accepter les données, Il doit être sous la forme de deux colonnes !(\"label\",\"features\")\n",
    "# Import VectorAssembler and Vectors\n",
    "from pyspark.ml.linalg import Vectors\n",
    "from pyspark.ml.feature import VectorAssembler\n",
    "from pyspark.ml import Pipeline\n",
    "from pyspark.ml.feature import IndexToString, StringIndexer"
   ]
  },
  {
   "cell_type": "code",
   "execution_count": 26,
   "id": "3fdad2a2",
   "metadata": {},
   "outputs": [
    {
     "name": "stdout",
     "output_type": "stream",
     "text": [
      "+---+---+------+-----------+-------+-----+\n",
      "|age|sex|    bp|cholesterol|Na_to_K| drug|\n",
      "+---+---+------+-----------+-------+-----+\n",
      "| 23|  F|  HIGH|       HIGH| 25.355|drugY|\n",
      "| 47|  M|   LOW|       HIGH| 13.093|drugC|\n",
      "| 47|  M|   LOW|       HIGH| 10.114|drugC|\n",
      "| 28|  F|NORMAL|       HIGH|  7.798|drugX|\n",
      "| 61|  F|   LOW|       HIGH| 18.043|drugY|\n",
      "| 22|  F|NORMAL|       HIGH|  8.607|drugX|\n",
      "| 49|  F|NORMAL|       HIGH| 16.275|drugY|\n",
      "| 41|  M|   LOW|       HIGH| 11.037|drugC|\n",
      "| 60|  M|NORMAL|       HIGH| 15.171|drugY|\n",
      "| 43|  M|   LOW|     NORMAL| 19.368|drugY|\n",
      "| 47|  F|   LOW|       HIGH| 11.767|drugC|\n",
      "| 34|  F|  HIGH|     NORMAL| 19.199|drugY|\n",
      "| 43|  M|   LOW|       HIGH| 15.376|drugY|\n",
      "| 74|  F|   LOW|       HIGH| 20.942|drugY|\n",
      "| 50|  F|NORMAL|       HIGH| 12.703|drugX|\n",
      "| 16|  F|  HIGH|     NORMAL| 15.516|drugY|\n",
      "| 69|  M|   LOW|     NORMAL| 11.455|drugX|\n",
      "| 43|  M|  HIGH|       HIGH| 13.972|drugA|\n",
      "| 23|  M|   LOW|       HIGH|  7.298|drugC|\n",
      "| 32|  F|  HIGH|     NORMAL| 25.974|drugY|\n",
      "+---+---+------+-----------+-------+-----+\n",
      "only showing top 20 rows\n",
      "\n"
     ]
    }
   ],
   "source": [
    "#Les arbres de décision ne gèrent pas les variables catégorielles. Mais nous pouvons toujours\n",
    "#convertir ces caractéristiques en valeurs numériques.\n",
    "data.show()\n"
   ]
  },
  {
   "cell_type": "code",
   "execution_count": 27,
   "id": "80750f28",
   "metadata": {},
   "outputs": [
    {
     "data": {
      "text/plain": [
       "['age', 'sex', 'bp', 'cholesterol', 'Na_to_K', 'drug']"
      ]
     },
     "execution_count": 27,
     "metadata": {},
     "output_type": "execute_result"
    }
   ],
   "source": [
    "data.columns\n"
   ]
  },
  {
   "cell_type": "code",
   "execution_count": 28,
   "id": "b75d73de",
   "metadata": {},
   "outputs": [],
   "source": [
    "#Nous pouvons appliquer StringIndexer à plusieurs colonnes dans un PySpark Dataframe\n",
    "indexers = [StringIndexer(inputCol=column, outputCol=column+\"_index\").fit(data) for column in list(set(data.columns)-set(['drug','Na_to_K','age'])) ]\n"
   ]
  },
  {
   "cell_type": "code",
   "execution_count": 29,
   "id": "0efb9d4d",
   "metadata": {},
   "outputs": [],
   "source": [
    "pipeline = Pipeline(stages=indexers)"
   ]
  },
  {
   "cell_type": "code",
   "execution_count": 30,
   "id": "964e25b0",
   "metadata": {},
   "outputs": [],
   "source": [
    "df_r = pipeline.fit(data).transform(data)\n"
   ]
  },
  {
   "cell_type": "code",
   "execution_count": 31,
   "id": "fc3d87e0",
   "metadata": {},
   "outputs": [
    {
     "name": "stdout",
     "output_type": "stream",
     "text": [
      "+---+---+------+-----------+-------+-----+--------+-----------------+---------+\n",
      "|age|sex|    bp|cholesterol|Na_to_K| drug|bp_index|cholesterol_index|sex_index|\n",
      "+---+---+------+-----------+-------+-----+--------+-----------------+---------+\n",
      "| 23|  F|  HIGH|       HIGH| 25.355|drugY|     0.0|              0.0|      1.0|\n",
      "| 47|  M|   LOW|       HIGH| 13.093|drugC|     1.0|              0.0|      0.0|\n",
      "| 47|  M|   LOW|       HIGH| 10.114|drugC|     1.0|              0.0|      0.0|\n",
      "| 28|  F|NORMAL|       HIGH|  7.798|drugX|     2.0|              0.0|      1.0|\n",
      "| 61|  F|   LOW|       HIGH| 18.043|drugY|     1.0|              0.0|      1.0|\n",
      "| 22|  F|NORMAL|       HIGH|  8.607|drugX|     2.0|              0.0|      1.0|\n",
      "| 49|  F|NORMAL|       HIGH| 16.275|drugY|     2.0|              0.0|      1.0|\n",
      "| 41|  M|   LOW|       HIGH| 11.037|drugC|     1.0|              0.0|      0.0|\n",
      "| 60|  M|NORMAL|       HIGH| 15.171|drugY|     2.0|              0.0|      0.0|\n",
      "| 43|  M|   LOW|     NORMAL| 19.368|drugY|     1.0|              1.0|      0.0|\n",
      "| 47|  F|   LOW|       HIGH| 11.767|drugC|     1.0|              0.0|      1.0|\n",
      "| 34|  F|  HIGH|     NORMAL| 19.199|drugY|     0.0|              1.0|      1.0|\n",
      "| 43|  M|   LOW|       HIGH| 15.376|drugY|     1.0|              0.0|      0.0|\n",
      "| 74|  F|   LOW|       HIGH| 20.942|drugY|     1.0|              0.0|      1.0|\n",
      "| 50|  F|NORMAL|       HIGH| 12.703|drugX|     2.0|              0.0|      1.0|\n",
      "| 16|  F|  HIGH|     NORMAL| 15.516|drugY|     0.0|              1.0|      1.0|\n",
      "| 69|  M|   LOW|     NORMAL| 11.455|drugX|     1.0|              1.0|      0.0|\n",
      "| 43|  M|  HIGH|       HIGH| 13.972|drugA|     0.0|              0.0|      0.0|\n",
      "| 23|  M|   LOW|       HIGH|  7.298|drugC|     1.0|              0.0|      0.0|\n",
      "| 32|  F|  HIGH|     NORMAL| 25.974|drugY|     0.0|              1.0|      1.0|\n",
      "+---+---+------+-----------+-------+-----+--------+-----------------+---------+\n",
      "only showing top 20 rows\n",
      "\n"
     ]
    }
   ],
   "source": [
    "df_r.show()"
   ]
  },
  {
   "cell_type": "code",
   "execution_count": 32,
   "id": "899fe7dd",
   "metadata": {},
   "outputs": [],
   "source": [
    "#Transformer les caractéristiques qui fusionne plusieurs colonnes en une colonne vectorielle\n",
    "assembler = VectorAssembler(\n",
    "  inputCols=['age',\n",
    "             'sex_index', \n",
    "             'bp_index', \n",
    "             'cholesterol_index', \n",
    "             'Na_to_K'],\n",
    "              outputCol=\"features\")"
   ]
  },
  {
   "cell_type": "code",
   "execution_count": 33,
   "id": "214af47d",
   "metadata": {},
   "outputs": [],
   "source": [
    "output = assembler.transform(df_r)\n"
   ]
  },
  {
   "cell_type": "code",
   "execution_count": 34,
   "id": "a57ef688",
   "metadata": {},
   "outputs": [
    {
     "name": "stdout",
     "output_type": "stream",
     "text": [
      "+---+---+------+-----------+-------+-----+--------+-----------------+---------+--------------------+\n",
      "|age|sex|    bp|cholesterol|Na_to_K| drug|bp_index|cholesterol_index|sex_index|            features|\n",
      "+---+---+------+-----------+-------+-----+--------+-----------------+---------+--------------------+\n",
      "| 23|  F|  HIGH|       HIGH| 25.355|drugY|     0.0|              0.0|      1.0|[23.0,1.0,0.0,0.0...|\n",
      "| 47|  M|   LOW|       HIGH| 13.093|drugC|     1.0|              0.0|      0.0|[47.0,0.0,1.0,0.0...|\n",
      "| 47|  M|   LOW|       HIGH| 10.114|drugC|     1.0|              0.0|      0.0|[47.0,0.0,1.0,0.0...|\n",
      "| 28|  F|NORMAL|       HIGH|  7.798|drugX|     2.0|              0.0|      1.0|[28.0,1.0,2.0,0.0...|\n",
      "| 61|  F|   LOW|       HIGH| 18.043|drugY|     1.0|              0.0|      1.0|[61.0,1.0,1.0,0.0...|\n",
      "| 22|  F|NORMAL|       HIGH|  8.607|drugX|     2.0|              0.0|      1.0|[22.0,1.0,2.0,0.0...|\n",
      "| 49|  F|NORMAL|       HIGH| 16.275|drugY|     2.0|              0.0|      1.0|[49.0,1.0,2.0,0.0...|\n",
      "| 41|  M|   LOW|       HIGH| 11.037|drugC|     1.0|              0.0|      0.0|[41.0,0.0,1.0,0.0...|\n",
      "| 60|  M|NORMAL|       HIGH| 15.171|drugY|     2.0|              0.0|      0.0|[60.0,0.0,2.0,0.0...|\n",
      "| 43|  M|   LOW|     NORMAL| 19.368|drugY|     1.0|              1.0|      0.0|[43.0,0.0,1.0,1.0...|\n",
      "| 47|  F|   LOW|       HIGH| 11.767|drugC|     1.0|              0.0|      1.0|[47.0,1.0,1.0,0.0...|\n",
      "| 34|  F|  HIGH|     NORMAL| 19.199|drugY|     0.0|              1.0|      1.0|[34.0,1.0,0.0,1.0...|\n",
      "| 43|  M|   LOW|       HIGH| 15.376|drugY|     1.0|              0.0|      0.0|[43.0,0.0,1.0,0.0...|\n",
      "| 74|  F|   LOW|       HIGH| 20.942|drugY|     1.0|              0.0|      1.0|[74.0,1.0,1.0,0.0...|\n",
      "| 50|  F|NORMAL|       HIGH| 12.703|drugX|     2.0|              0.0|      1.0|[50.0,1.0,2.0,0.0...|\n",
      "| 16|  F|  HIGH|     NORMAL| 15.516|drugY|     0.0|              1.0|      1.0|[16.0,1.0,0.0,1.0...|\n",
      "| 69|  M|   LOW|     NORMAL| 11.455|drugX|     1.0|              1.0|      0.0|[69.0,0.0,1.0,1.0...|\n",
      "| 43|  M|  HIGH|       HIGH| 13.972|drugA|     0.0|              0.0|      0.0|(5,[0,4],[43.0,13...|\n",
      "| 23|  M|   LOW|       HIGH|  7.298|drugC|     1.0|              0.0|      0.0|[23.0,0.0,1.0,0.0...|\n",
      "| 32|  F|  HIGH|     NORMAL| 25.974|drugY|     0.0|              1.0|      1.0|[32.0,1.0,0.0,1.0...|\n",
      "+---+---+------+-----------+-------+-----+--------+-----------------+---------+--------------------+\n",
      "only showing top 20 rows\n",
      "\n"
     ]
    }
   ],
   "source": [
    "output.show()"
   ]
  },
  {
   "cell_type": "code",
   "execution_count": 35,
   "id": "d9bd67b7",
   "metadata": {},
   "outputs": [],
   "source": [
    "from pyspark.ml.feature import StringIndexer\n"
   ]
  },
  {
   "cell_type": "code",
   "execution_count": 36,
   "id": "b26b2952",
   "metadata": {},
   "outputs": [],
   "source": [
    "#Maintenant, nous pouvons remplir la variable cible drug\n",
    "indexer = StringIndexer(inputCol=\"drug\", outputCol=\"drugIndex\")\n",
    "output_fixed = indexer.fit(output).transform(output)"
   ]
  },
  {
   "cell_type": "code",
   "execution_count": 37,
   "id": "b961643d",
   "metadata": {},
   "outputs": [
    {
     "data": {
      "text/plain": [
       "DataFrame[features: vector, drugIndex: double]"
      ]
     },
     "execution_count": 37,
     "metadata": {},
     "output_type": "execute_result"
    }
   ],
   "source": [
    "final_data = output_fixed.select(\"features\",'drugIndex')\n",
    "final_data"
   ]
  },
  {
   "cell_type": "code",
   "execution_count": 38,
   "id": "a925f9f7",
   "metadata": {},
   "outputs": [],
   "source": [
    "train_data,test_data = final_data.randomSplit([0.7,0.3])"
   ]
  },
  {
   "cell_type": "code",
   "execution_count": 39,
   "id": "b3c9a03d",
   "metadata": {},
   "outputs": [
    {
     "name": "stdout",
     "output_type": "stream",
     "text": [
      "+--------------------+---------+\n",
      "|            features|drugIndex|\n",
      "+--------------------+---------+\n",
      "|(5,[0,4],[23.0,8....|      2.0|\n",
      "|(5,[0,4],[29.0,12...|      2.0|\n",
      "|(5,[0,4],[31.0,30...|      0.0|\n",
      "|(5,[0,4],[39.0,9....|      2.0|\n",
      "|(5,[0,4],[40.0,27...|      0.0|\n",
      "|(5,[0,4],[43.0,13...|      2.0|\n",
      "|(5,[0,4],[47.0,10...|      2.0|\n",
      "|(5,[0,4],[50.0,7....|      2.0|\n",
      "|(5,[0,4],[58.0,18...|      0.0|\n",
      "|(5,[0,4],[59.0,13...|      3.0|\n",
      "|(5,[0,4],[66.0,16...|      0.0|\n",
      "|(5,[0,4],[68.0,11...|      3.0|\n",
      "|(5,[0,4],[70.0,9....|      3.0|\n",
      "|(5,[0,4],[74.0,9....|      3.0|\n",
      "|[15.0,1.0,0.0,1.0...|      0.0|\n",
      "|[16.0,0.0,0.0,1.0...|      0.0|\n",
      "|[16.0,0.0,1.0,0.0...|      4.0|\n",
      "|[16.0,1.0,0.0,1.0...|      0.0|\n",
      "|[17.0,0.0,2.0,1.0...|      1.0|\n",
      "|[18.0,1.0,0.0,0.0...|      0.0|\n",
      "+--------------------+---------+\n",
      "only showing top 20 rows\n",
      "\n"
     ]
    }
   ],
   "source": [
    "train_data.show()"
   ]
  },
  {
   "cell_type": "code",
   "execution_count": 40,
   "id": "a89c2c19",
   "metadata": {},
   "outputs": [],
   "source": [
    "from pyspark.ml.classification import DecisionTreeClassifier\n"
   ]
  },
  {
   "cell_type": "code",
   "execution_count": 41,
   "id": "f956a057",
   "metadata": {},
   "outputs": [],
   "source": [
    "dtc = DecisionTreeClassifier(labelCol='drugIndex',featuresCol='features')\n"
   ]
  },
  {
   "cell_type": "code",
   "execution_count": 42,
   "id": "ea82e6c9",
   "metadata": {},
   "outputs": [],
   "source": [
    "# Train the model\n",
    "dtc_model = dtc.fit(train_data)"
   ]
  },
  {
   "cell_type": "code",
   "execution_count": 43,
   "id": "39f15e27",
   "metadata": {},
   "outputs": [
    {
     "name": "stdout",
     "output_type": "stream",
     "text": [
      "+--------------------+---------+----------+--------------------+\n",
      "|            features|drugIndex|prediction|       rawPrediction|\n",
      "+--------------------+---------+----------+--------------------+\n",
      "|(5,[0,4],[34.0,18...|      0.0|       0.0|[63.0,0.0,0.0,0.0...|\n",
      "|(5,[0,4],[51.0,18...|      0.0|       0.0|[63.0,0.0,0.0,0.0...|\n",
      "|(5,[0,4],[60.0,13...|      3.0|       3.0|[0.0,0.0,0.0,11.0...|\n",
      "|(5,[0,4],[70.0,13...|      3.0|       3.0|[0.0,0.0,0.0,11.0...|\n",
      "|[15.0,0.0,0.0,1.0...|      0.0|       0.0|[63.0,0.0,0.0,0.0...|\n",
      "|[15.0,0.0,2.0,0.0...|      1.0|       1.0|[0.0,24.0,0.0,0.0...|\n",
      "|[20.0,1.0,1.0,1.0...|      1.0|       1.0|[0.0,12.0,0.0,0.0...|\n",
      "|[22.0,0.0,1.0,0.0...|      4.0|       4.0|[0.0,0.0,0.0,0.0,...|\n",
      "|[23.0,0.0,2.0,0.0...|      1.0|       1.0|[0.0,24.0,0.0,0.0...|\n",
      "|[23.0,0.0,2.0,0.0...|      0.0|       0.0|[63.0,0.0,0.0,0.0...|\n",
      "|[25.0,0.0,2.0,0.0...|      0.0|       0.0|[63.0,0.0,0.0,0.0...|\n",
      "|[28.0,0.0,2.0,0.0...|      0.0|       0.0|[63.0,0.0,0.0,0.0...|\n",
      "|[28.0,1.0,1.0,0.0...|      4.0|       4.0|[0.0,0.0,0.0,0.0,...|\n",
      "|[28.0,1.0,2.0,0.0...|      1.0|       1.0|[0.0,24.0,0.0,0.0...|\n",
      "|[28.0,1.0,2.0,0.0...|      0.0|       0.0|[63.0,0.0,0.0,0.0...|\n",
      "|[29.0,1.0,0.0,0.0...|      0.0|       0.0|[63.0,0.0,0.0,0.0...|\n",
      "|[31.0,0.0,0.0,1.0...|      2.0|       2.0|[0.0,0.0,19.0,0.0...|\n",
      "|[32.0,1.0,2.0,0.0...|      1.0|       1.0|[0.0,24.0,0.0,0.0...|\n",
      "|[34.0,0.0,2.0,0.0...|      0.0|       0.0|[63.0,0.0,0.0,0.0...|\n",
      "|[35.0,1.0,0.0,0.0...|      2.0|       2.0|[0.0,0.0,19.0,0.0...|\n",
      "+--------------------+---------+----------+--------------------+\n",
      "only showing top 20 rows\n",
      "\n"
     ]
    }
   ],
   "source": [
    "dtc_predictions = dtc_model.transform(test_data)\n",
    "predicted = dtc_predictions.select(\"features\",\"drugIndex\", \"prediction\",\"rawPrediction\")\n",
    "predicted.show()"
   ]
  },
  {
   "cell_type": "code",
   "execution_count": 44,
   "id": "95949090",
   "metadata": {},
   "outputs": [],
   "source": [
    "from pyspark.ml.evaluation import MulticlassClassificationEvaluator\n"
   ]
  },
  {
   "cell_type": "code",
   "execution_count": 45,
   "id": "7f67950f",
   "metadata": {},
   "outputs": [],
   "source": [
    "# Select (prediction, true label) and compute test error\n",
    "acc_evaluator = MulticlassClassificationEvaluator(labelCol=\"drugIndex\", predictionCol=\"prediction\", metricName=\"accuracy\")"
   ]
  },
  {
   "cell_type": "code",
   "execution_count": 46,
   "id": "e8840c5c",
   "metadata": {},
   "outputs": [],
   "source": [
    "dtc_acc = acc_evaluator.evaluate(dtc_predictions)\n"
   ]
  },
  {
   "cell_type": "code",
   "execution_count": 47,
   "id": "bd57a2f2",
   "metadata": {},
   "outputs": [
    {
     "name": "stdout",
     "output_type": "stream",
     "text": [
      "Here are the results!\n",
      "--------------------------------------------------------------------------------\n",
      "A single decision tree had an accuracy of: 96.43%\n"
     ]
    }
   ],
   "source": [
    "print(\"Here are the results!\")\n",
    "print('-'*80)\n",
    "print('A single decision tree had an accuracy of: {0:2.2f}%'.format(dtc_acc*100))"
   ]
  }
 ],
 "metadata": {
  "kernelspec": {
   "display_name": "Python 3 (ipykernel)",
   "language": "python",
   "name": "python3"
  },
  "language_info": {
   "codemirror_mode": {
    "name": "ipython",
    "version": 3
   },
   "file_extension": ".py",
   "mimetype": "text/x-python",
   "name": "python",
   "nbconvert_exporter": "python",
   "pygments_lexer": "ipython3",
   "version": "3.9.12"
  }
 },
 "nbformat": 4,
 "nbformat_minor": 5
}
